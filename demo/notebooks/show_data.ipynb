{
 "cells": [
  {
   "cell_type": "code",
   "execution_count": 1,
   "metadata": {},
   "outputs": [],
   "source": [
    "import pandas as pd"
   ]
  },
  {
   "cell_type": "code",
   "execution_count": 2,
   "metadata": {},
   "outputs": [
    {
     "data": {
      "text/html": [
       "<div>\n",
       "<style scoped>\n",
       "    .dataframe tbody tr th:only-of-type {\n",
       "        vertical-align: middle;\n",
       "    }\n",
       "\n",
       "    .dataframe tbody tr th {\n",
       "        vertical-align: top;\n",
       "    }\n",
       "\n",
       "    .dataframe thead th {\n",
       "        text-align: right;\n",
       "    }\n",
       "</style>\n",
       "<table border=\"1\" class=\"dataframe\">\n",
       "  <thead>\n",
       "    <tr style=\"text-align: right;\">\n",
       "      <th></th>\n",
       "      <th>device_uid</th>\n",
       "      <th>connected_object_uid</th>\n",
       "      <th>site_id</th>\n",
       "      <th>type</th>\n",
       "      <th>label</th>\n",
       "    </tr>\n",
       "  </thead>\n",
       "  <tbody>\n",
       "    <tr>\n",
       "      <th>0</th>\n",
       "      <td>0</td>\n",
       "      <td>05ed9851-5343-47d9-9417-99422184eb29</td>\n",
       "      <td>0</td>\n",
       "      <td>chauffage</td>\n",
       "      <td>Mon chauffage maison</td>\n",
       "    </tr>\n",
       "    <tr>\n",
       "      <th>1</th>\n",
       "      <td>1</td>\n",
       "      <td>0fd49130-1973-418f-b101-3682942654e0</td>\n",
       "      <td>1</td>\n",
       "      <td>chauffage</td>\n",
       "      <td>Le chauffage c'est la vie</td>\n",
       "    </tr>\n",
       "    <tr>\n",
       "      <th>2</th>\n",
       "      <td>2</td>\n",
       "      <td>14766b2f-4d6f-4849-afdf-d74639ac67a4</td>\n",
       "      <td>2</td>\n",
       "      <td>four</td>\n",
       "      <td>pour faire du pain</td>\n",
       "    </tr>\n",
       "  </tbody>\n",
       "</table>\n",
       "</div>"
      ],
      "text/plain": [
       "   device_uid                  connected_object_uid  site_id       type  \\\n",
       "0           0  05ed9851-5343-47d9-9417-99422184eb29        0  chauffage   \n",
       "1           1  0fd49130-1973-418f-b101-3682942654e0        1  chauffage   \n",
       "2           2  14766b2f-4d6f-4849-afdf-d74639ac67a4        2       four   \n",
       "\n",
       "                       label  \n",
       "0       Mon chauffage maison  \n",
       "1  Le chauffage c'est la vie  \n",
       "2         pour faire du pain  "
      ]
     },
     "execution_count": 2,
     "metadata": {},
     "output_type": "execute_result"
    }
   ],
   "source": [
    "df_devices = pd.read_parquet(\"../data/devices.parquet\")\n",
    "df_devices"
   ]
  },
  {
   "cell_type": "code",
   "execution_count": 3,
   "metadata": {},
   "outputs": [
    {
     "data": {
      "text/html": [
       "<div>\n",
       "<style scoped>\n",
       "    .dataframe tbody tr th:only-of-type {\n",
       "        vertical-align: middle;\n",
       "    }\n",
       "\n",
       "    .dataframe tbody tr th {\n",
       "        vertical-align: top;\n",
       "    }\n",
       "\n",
       "    .dataframe thead th {\n",
       "        text-align: right;\n",
       "    }\n",
       "</style>\n",
       "<table border=\"1\" class=\"dataframe\">\n",
       "  <thead>\n",
       "    <tr style=\"text-align: right;\">\n",
       "      <th></th>\n",
       "      <th>site_id</th>\n",
       "      <th>time_bucket</th>\n",
       "      <th>connected_object_uid</th>\n",
       "      <th>timestamp</th>\n",
       "      <th>value</th>\n",
       "    </tr>\n",
       "  </thead>\n",
       "  <tbody>\n",
       "    <tr>\n",
       "      <th>0</th>\n",
       "      <td>0</td>\n",
       "      <td>202309</td>\n",
       "      <td>05ed9851-5343-47d9-9417-99422184eb29</td>\n",
       "      <td>2023-09-11 23:00:00</td>\n",
       "      <td>93.011353</td>\n",
       "    </tr>\n",
       "    <tr>\n",
       "      <th>1</th>\n",
       "      <td>0</td>\n",
       "      <td>202309</td>\n",
       "      <td>05ed9851-5343-47d9-9417-99422184eb29</td>\n",
       "      <td>2023-09-11 22:00:00</td>\n",
       "      <td>102.261597</td>\n",
       "    </tr>\n",
       "    <tr>\n",
       "      <th>2</th>\n",
       "      <td>0</td>\n",
       "      <td>202309</td>\n",
       "      <td>05ed9851-5343-47d9-9417-99422184eb29</td>\n",
       "      <td>2023-09-11 21:00:00</td>\n",
       "      <td>85.772240</td>\n",
       "    </tr>\n",
       "    <tr>\n",
       "      <th>3</th>\n",
       "      <td>0</td>\n",
       "      <td>202309</td>\n",
       "      <td>05ed9851-5343-47d9-9417-99422184eb29</td>\n",
       "      <td>2023-09-11 20:00:00</td>\n",
       "      <td>86.070312</td>\n",
       "    </tr>\n",
       "    <tr>\n",
       "      <th>4</th>\n",
       "      <td>0</td>\n",
       "      <td>202309</td>\n",
       "      <td>05ed9851-5343-47d9-9417-99422184eb29</td>\n",
       "      <td>2023-09-11 19:00:00</td>\n",
       "      <td>96.677460</td>\n",
       "    </tr>\n",
       "    <tr>\n",
       "      <th>...</th>\n",
       "      <td>...</td>\n",
       "      <td>...</td>\n",
       "      <td>...</td>\n",
       "      <td>...</td>\n",
       "      <td>...</td>\n",
       "    </tr>\n",
       "    <tr>\n",
       "      <th>139</th>\n",
       "      <td>1</td>\n",
       "      <td>202309</td>\n",
       "      <td>0fd49130-1973-418f-b101-3682942654e0</td>\n",
       "      <td>2023-09-10 04:00:00</td>\n",
       "      <td>106.803101</td>\n",
       "    </tr>\n",
       "    <tr>\n",
       "      <th>140</th>\n",
       "      <td>1</td>\n",
       "      <td>202309</td>\n",
       "      <td>0fd49130-1973-418f-b101-3682942654e0</td>\n",
       "      <td>2023-09-10 03:00:00</td>\n",
       "      <td>94.687714</td>\n",
       "    </tr>\n",
       "    <tr>\n",
       "      <th>141</th>\n",
       "      <td>1</td>\n",
       "      <td>202309</td>\n",
       "      <td>0fd49130-1973-418f-b101-3682942654e0</td>\n",
       "      <td>2023-09-10 02:00:00</td>\n",
       "      <td>104.795273</td>\n",
       "    </tr>\n",
       "    <tr>\n",
       "      <th>142</th>\n",
       "      <td>1</td>\n",
       "      <td>202309</td>\n",
       "      <td>0fd49130-1973-418f-b101-3682942654e0</td>\n",
       "      <td>2023-09-10 01:00:00</td>\n",
       "      <td>105.691086</td>\n",
       "    </tr>\n",
       "    <tr>\n",
       "      <th>143</th>\n",
       "      <td>1</td>\n",
       "      <td>202309</td>\n",
       "      <td>0fd49130-1973-418f-b101-3682942654e0</td>\n",
       "      <td>2023-09-10 00:00:00</td>\n",
       "      <td>97.306885</td>\n",
       "    </tr>\n",
       "  </tbody>\n",
       "</table>\n",
       "<p>144 rows × 5 columns</p>\n",
       "</div>"
      ],
      "text/plain": [
       "     site_id time_bucket                  connected_object_uid  \\\n",
       "0          0      202309  05ed9851-5343-47d9-9417-99422184eb29   \n",
       "1          0      202309  05ed9851-5343-47d9-9417-99422184eb29   \n",
       "2          0      202309  05ed9851-5343-47d9-9417-99422184eb29   \n",
       "3          0      202309  05ed9851-5343-47d9-9417-99422184eb29   \n",
       "4          0      202309  05ed9851-5343-47d9-9417-99422184eb29   \n",
       "..       ...         ...                                   ...   \n",
       "139        1      202309  0fd49130-1973-418f-b101-3682942654e0   \n",
       "140        1      202309  0fd49130-1973-418f-b101-3682942654e0   \n",
       "141        1      202309  0fd49130-1973-418f-b101-3682942654e0   \n",
       "142        1      202309  0fd49130-1973-418f-b101-3682942654e0   \n",
       "143        1      202309  0fd49130-1973-418f-b101-3682942654e0   \n",
       "\n",
       "              timestamp       value  \n",
       "0   2023-09-11 23:00:00   93.011353  \n",
       "1   2023-09-11 22:00:00  102.261597  \n",
       "2   2023-09-11 21:00:00   85.772240  \n",
       "3   2023-09-11 20:00:00   86.070312  \n",
       "4   2023-09-11 19:00:00   96.677460  \n",
       "..                  ...         ...  \n",
       "139 2023-09-10 04:00:00  106.803101  \n",
       "140 2023-09-10 03:00:00   94.687714  \n",
       "141 2023-09-10 02:00:00  104.795273  \n",
       "142 2023-09-10 01:00:00  105.691086  \n",
       "143 2023-09-10 00:00:00   97.306885  \n",
       "\n",
       "[144 rows x 5 columns]"
      ]
     },
     "execution_count": 3,
     "metadata": {},
     "output_type": "execute_result"
    }
   ],
   "source": [
    "df_measures = pd.read_parquet(\"../data/measures.parquet\")\n",
    "df_measures"
   ]
  },
  {
   "cell_type": "code",
   "execution_count": 4,
   "metadata": {},
   "outputs": [
    {
     "data": {
      "application/vnd.plotly.v1+json": {
       "config": {
        "plotlyServerURL": "https://plot.ly"
       },
       "data": [
        {
         "hovertemplate": "connected_object_uid=05ed9851-5343-47d9-9417-99422184eb29<br>timestamp=%{x}<br>value=%{y}<extra></extra>",
         "legendgroup": "05ed9851-5343-47d9-9417-99422184eb29",
         "line": {
          "color": "#636efa",
          "dash": "solid"
         },
         "marker": {
          "symbol": "circle"
         },
         "mode": "lines",
         "name": "05ed9851-5343-47d9-9417-99422184eb29",
         "orientation": "v",
         "showlegend": true,
         "type": "scatter",
         "x": [
          "2023-09-11T23:00:00",
          "2023-09-11T22:00:00",
          "2023-09-11T21:00:00",
          "2023-09-11T20:00:00",
          "2023-09-11T19:00:00",
          "2023-09-11T18:00:00",
          "2023-09-11T17:00:00",
          "2023-09-11T16:00:00",
          "2023-09-11T15:00:00",
          "2023-09-11T14:00:00",
          "2023-09-11T13:00:00",
          "2023-09-11T12:00:00",
          "2023-09-11T11:00:00",
          "2023-09-11T10:00:00",
          "2023-09-11T09:00:00",
          "2023-09-11T08:00:00",
          "2023-09-11T07:00:00",
          "2023-09-11T06:00:00",
          "2023-09-11T05:00:00",
          "2023-09-11T04:00:00",
          "2023-09-11T03:00:00",
          "2023-09-11T02:00:00",
          "2023-09-11T01:00:00",
          "2023-09-11T00:00:00",
          "2023-09-10T23:00:00",
          "2023-09-10T22:00:00",
          "2023-09-10T21:00:00",
          "2023-09-10T20:00:00",
          "2023-09-10T19:00:00",
          "2023-09-10T18:00:00",
          "2023-09-10T17:00:00",
          "2023-09-10T16:00:00",
          "2023-09-10T15:00:00",
          "2023-09-10T14:00:00",
          "2023-09-10T13:00:00",
          "2023-09-10T12:00:00",
          "2023-09-10T11:00:00",
          "2023-09-10T10:00:00",
          "2023-09-10T09:00:00",
          "2023-09-10T08:00:00",
          "2023-09-10T07:00:00",
          "2023-09-10T06:00:00",
          "2023-09-10T05:00:00",
          "2023-09-10T04:00:00",
          "2023-09-10T03:00:00",
          "2023-09-10T02:00:00",
          "2023-09-10T01:00:00",
          "2023-09-10T00:00:00"
         ],
         "xaxis": "x",
         "y": [
          93.0113525390625,
          102.2615966796875,
          85.7722396850586,
          86.0703125,
          96.67745971679688,
          96.36445617675781,
          103.1317138671875,
          103.00402069091797,
          106.04815673828125,
          93.3011474609375,
          104.07514190673828,
          108.5295181274414,
          95.86017608642578,
          107.50579071044922,
          103.01787567138672,
          123.67249298095703,
          106.15052032470703,
          89.1875,
          115.1399917602539,
          94.9015121459961,
          106.84690856933594,
          93.70437622070312,
          119.25321960449219,
          94.53282165527344,
          90.44571685791016,
          116.0048599243164,
          111.63057708740234,
          123.3475341796875,
          116.43872833251953,
          110.32431030273438,
          103.26374816894531,
          103.1635513305664,
          110.25695037841797,
          106.647705078125,
          83.86004638671875,
          100.30772399902344,
          100.21587371826172,
          95.15850830078125,
          110.27992248535156,
          115.589111328125,
          94.90426635742188,
          98.17435455322266,
          106.36200714111328,
          93.69319915771484,
          114.62918090820312,
          92.03927612304688,
          107.59371185302734,
          101.22883605957031
         ],
         "yaxis": "y"
        },
        {
         "hovertemplate": "connected_object_uid=14766b2f-4d6f-4849-afdf-d74639ac67a4<br>timestamp=%{x}<br>value=%{y}<extra></extra>",
         "legendgroup": "14766b2f-4d6f-4849-afdf-d74639ac67a4",
         "line": {
          "color": "#EF553B",
          "dash": "solid"
         },
         "marker": {
          "symbol": "circle"
         },
         "mode": "lines",
         "name": "14766b2f-4d6f-4849-afdf-d74639ac67a4",
         "orientation": "v",
         "showlegend": true,
         "type": "scatter",
         "x": [
          "2023-09-11T23:00:00",
          "2023-09-11T22:00:00",
          "2023-09-11T21:00:00",
          "2023-09-11T20:00:00",
          "2023-09-11T19:00:00",
          "2023-09-11T18:00:00",
          "2023-09-11T17:00:00",
          "2023-09-11T16:00:00",
          "2023-09-11T15:00:00",
          "2023-09-11T14:00:00",
          "2023-09-11T13:00:00",
          "2023-09-11T12:00:00",
          "2023-09-11T11:00:00",
          "2023-09-11T10:00:00",
          "2023-09-11T09:00:00",
          "2023-09-11T08:00:00",
          "2023-09-11T07:00:00",
          "2023-09-11T06:00:00",
          "2023-09-11T05:00:00",
          "2023-09-11T04:00:00",
          "2023-09-11T03:00:00",
          "2023-09-11T02:00:00",
          "2023-09-11T01:00:00",
          "2023-09-11T00:00:00",
          "2023-09-10T23:00:00",
          "2023-09-10T22:00:00",
          "2023-09-10T21:00:00",
          "2023-09-10T20:00:00",
          "2023-09-10T19:00:00",
          "2023-09-10T18:00:00",
          "2023-09-10T17:00:00",
          "2023-09-10T16:00:00",
          "2023-09-10T15:00:00",
          "2023-09-10T14:00:00",
          "2023-09-10T13:00:00",
          "2023-09-10T12:00:00",
          "2023-09-10T11:00:00",
          "2023-09-10T10:00:00",
          "2023-09-10T09:00:00",
          "2023-09-10T08:00:00",
          "2023-09-10T07:00:00",
          "2023-09-10T06:00:00",
          "2023-09-10T05:00:00",
          "2023-09-10T04:00:00",
          "2023-09-10T03:00:00",
          "2023-09-10T02:00:00",
          "2023-09-10T01:00:00",
          "2023-09-10T00:00:00"
         ],
         "xaxis": "x",
         "y": [
          122.967529296875,
          105.2145004272461,
          100.6409683227539,
          95.1367416381836,
          119.85234832763672,
          79.4274673461914,
          102.39405059814453,
          106.4118881225586,
          123.88029479980469,
          100.08533477783203,
          104.67440795898438,
          115.107666015625,
          101.7059326171875,
          99.23570251464844,
          101.9082260131836,
          104.24056243896484,
          108.77084350585938,
          97.43132019042969,
          103.70519256591797,
          90.41007995605469,
          90.70208740234375,
          81.30636596679688,
          89.35072326660156,
          107.16340637207031,
          103.42514038085938,
          102.99333190917969,
          108.66815185546875,
          109.24061584472656,
          105.88983917236328,
          90.69038391113281,
          87.07868957519531,
          94.37210845947266,
          81.94051361083984,
          93.14818572998047,
          122.04666137695312,
          107.49302673339844,
          85.20365142822266,
          93.21456146240234,
          98.648681640625,
          91.79631805419922,
          82.02043151855469,
          105.81670379638672,
          120.08769226074219,
          107.21844482421875,
          91.37923431396484,
          106.97180938720703,
          84.74382019042969,
          101.3014907836914
         ],
         "yaxis": "y"
        },
        {
         "hovertemplate": "connected_object_uid=0fd49130-1973-418f-b101-3682942654e0<br>timestamp=%{x}<br>value=%{y}<extra></extra>",
         "legendgroup": "0fd49130-1973-418f-b101-3682942654e0",
         "line": {
          "color": "#00cc96",
          "dash": "solid"
         },
         "marker": {
          "symbol": "circle"
         },
         "mode": "lines",
         "name": "0fd49130-1973-418f-b101-3682942654e0",
         "orientation": "v",
         "showlegend": true,
         "type": "scatter",
         "x": [
          "2023-09-11T23:00:00",
          "2023-09-11T22:00:00",
          "2023-09-11T21:00:00",
          "2023-09-11T20:00:00",
          "2023-09-11T19:00:00",
          "2023-09-11T18:00:00",
          "2023-09-11T17:00:00",
          "2023-09-11T16:00:00",
          "2023-09-11T15:00:00",
          "2023-09-11T14:00:00",
          "2023-09-11T13:00:00",
          "2023-09-11T12:00:00",
          "2023-09-11T11:00:00",
          "2023-09-11T10:00:00",
          "2023-09-11T09:00:00",
          "2023-09-11T08:00:00",
          "2023-09-11T07:00:00",
          "2023-09-11T06:00:00",
          "2023-09-11T05:00:00",
          "2023-09-11T04:00:00",
          "2023-09-11T03:00:00",
          "2023-09-11T02:00:00",
          "2023-09-11T01:00:00",
          "2023-09-11T00:00:00",
          "2023-09-10T23:00:00",
          "2023-09-10T22:00:00",
          "2023-09-10T21:00:00",
          "2023-09-10T20:00:00",
          "2023-09-10T19:00:00",
          "2023-09-10T18:00:00",
          "2023-09-10T17:00:00",
          "2023-09-10T16:00:00",
          "2023-09-10T15:00:00",
          "2023-09-10T14:00:00",
          "2023-09-10T13:00:00",
          "2023-09-10T12:00:00",
          "2023-09-10T11:00:00",
          "2023-09-10T10:00:00",
          "2023-09-10T09:00:00",
          "2023-09-10T08:00:00",
          "2023-09-10T07:00:00",
          "2023-09-10T06:00:00",
          "2023-09-10T05:00:00",
          "2023-09-10T04:00:00",
          "2023-09-10T03:00:00",
          "2023-09-10T02:00:00",
          "2023-09-10T01:00:00",
          "2023-09-10T00:00:00"
         ],
         "xaxis": "x",
         "y": [
          106.82685089111328,
          95.88385772705078,
          123.56678009033203,
          108.77442169189453,
          91.6167221069336,
          110.88063049316406,
          95.75822448730469,
          95.24462127685547,
          93.4195327758789,
          91.4130859375,
          104.0638656616211,
          112.34980010986328,
          105.29154205322266,
          107.55343627929688,
          98.71573638916016,
          112.26304626464844,
          114.57499694824219,
          79.35519409179688,
          76.70613861083984,
          100.79724884033203,
          110.47293090820312,
          115.52086639404297,
          102.79618072509766,
          108.60684204101562,
          115.82783508300781,
          104.77916717529297,
          91.55664825439453,
          102.46665954589844,
          100.53494262695312,
          105.62256622314453,
          96.5745849609375,
          99.71250915527344,
          99.27456665039062,
          103.5076675415039,
          110.3091812133789,
          98.20287322998047,
          109.85820007324219,
          110.41807556152344,
          95.14251708984375,
          108.19445037841797,
          105.00543975830078,
          113.5663833618164,
          103.52804565429688,
          106.8031005859375,
          94.68771362304688,
          104.79527282714844,
          105.69108581542969,
          97.306884765625
         ],
         "yaxis": "y"
        }
       ],
       "layout": {
        "legend": {
         "title": {
          "text": "connected_object_uid"
         },
         "tracegroupgap": 0
        },
        "margin": {
         "t": 60
        },
        "template": {
         "data": {
          "bar": [
           {
            "error_x": {
             "color": "#2a3f5f"
            },
            "error_y": {
             "color": "#2a3f5f"
            },
            "marker": {
             "line": {
              "color": "#E5ECF6",
              "width": 0.5
             },
             "pattern": {
              "fillmode": "overlay",
              "size": 10,
              "solidity": 0.2
             }
            },
            "type": "bar"
           }
          ],
          "barpolar": [
           {
            "marker": {
             "line": {
              "color": "#E5ECF6",
              "width": 0.5
             },
             "pattern": {
              "fillmode": "overlay",
              "size": 10,
              "solidity": 0.2
             }
            },
            "type": "barpolar"
           }
          ],
          "carpet": [
           {
            "aaxis": {
             "endlinecolor": "#2a3f5f",
             "gridcolor": "white",
             "linecolor": "white",
             "minorgridcolor": "white",
             "startlinecolor": "#2a3f5f"
            },
            "baxis": {
             "endlinecolor": "#2a3f5f",
             "gridcolor": "white",
             "linecolor": "white",
             "minorgridcolor": "white",
             "startlinecolor": "#2a3f5f"
            },
            "type": "carpet"
           }
          ],
          "choropleth": [
           {
            "colorbar": {
             "outlinewidth": 0,
             "ticks": ""
            },
            "type": "choropleth"
           }
          ],
          "contour": [
           {
            "colorbar": {
             "outlinewidth": 0,
             "ticks": ""
            },
            "colorscale": [
             [
              0,
              "#0d0887"
             ],
             [
              0.1111111111111111,
              "#46039f"
             ],
             [
              0.2222222222222222,
              "#7201a8"
             ],
             [
              0.3333333333333333,
              "#9c179e"
             ],
             [
              0.4444444444444444,
              "#bd3786"
             ],
             [
              0.5555555555555556,
              "#d8576b"
             ],
             [
              0.6666666666666666,
              "#ed7953"
             ],
             [
              0.7777777777777778,
              "#fb9f3a"
             ],
             [
              0.8888888888888888,
              "#fdca26"
             ],
             [
              1,
              "#f0f921"
             ]
            ],
            "type": "contour"
           }
          ],
          "contourcarpet": [
           {
            "colorbar": {
             "outlinewidth": 0,
             "ticks": ""
            },
            "type": "contourcarpet"
           }
          ],
          "heatmap": [
           {
            "colorbar": {
             "outlinewidth": 0,
             "ticks": ""
            },
            "colorscale": [
             [
              0,
              "#0d0887"
             ],
             [
              0.1111111111111111,
              "#46039f"
             ],
             [
              0.2222222222222222,
              "#7201a8"
             ],
             [
              0.3333333333333333,
              "#9c179e"
             ],
             [
              0.4444444444444444,
              "#bd3786"
             ],
             [
              0.5555555555555556,
              "#d8576b"
             ],
             [
              0.6666666666666666,
              "#ed7953"
             ],
             [
              0.7777777777777778,
              "#fb9f3a"
             ],
             [
              0.8888888888888888,
              "#fdca26"
             ],
             [
              1,
              "#f0f921"
             ]
            ],
            "type": "heatmap"
           }
          ],
          "heatmapgl": [
           {
            "colorbar": {
             "outlinewidth": 0,
             "ticks": ""
            },
            "colorscale": [
             [
              0,
              "#0d0887"
             ],
             [
              0.1111111111111111,
              "#46039f"
             ],
             [
              0.2222222222222222,
              "#7201a8"
             ],
             [
              0.3333333333333333,
              "#9c179e"
             ],
             [
              0.4444444444444444,
              "#bd3786"
             ],
             [
              0.5555555555555556,
              "#d8576b"
             ],
             [
              0.6666666666666666,
              "#ed7953"
             ],
             [
              0.7777777777777778,
              "#fb9f3a"
             ],
             [
              0.8888888888888888,
              "#fdca26"
             ],
             [
              1,
              "#f0f921"
             ]
            ],
            "type": "heatmapgl"
           }
          ],
          "histogram": [
           {
            "marker": {
             "pattern": {
              "fillmode": "overlay",
              "size": 10,
              "solidity": 0.2
             }
            },
            "type": "histogram"
           }
          ],
          "histogram2d": [
           {
            "colorbar": {
             "outlinewidth": 0,
             "ticks": ""
            },
            "colorscale": [
             [
              0,
              "#0d0887"
             ],
             [
              0.1111111111111111,
              "#46039f"
             ],
             [
              0.2222222222222222,
              "#7201a8"
             ],
             [
              0.3333333333333333,
              "#9c179e"
             ],
             [
              0.4444444444444444,
              "#bd3786"
             ],
             [
              0.5555555555555556,
              "#d8576b"
             ],
             [
              0.6666666666666666,
              "#ed7953"
             ],
             [
              0.7777777777777778,
              "#fb9f3a"
             ],
             [
              0.8888888888888888,
              "#fdca26"
             ],
             [
              1,
              "#f0f921"
             ]
            ],
            "type": "histogram2d"
           }
          ],
          "histogram2dcontour": [
           {
            "colorbar": {
             "outlinewidth": 0,
             "ticks": ""
            },
            "colorscale": [
             [
              0,
              "#0d0887"
             ],
             [
              0.1111111111111111,
              "#46039f"
             ],
             [
              0.2222222222222222,
              "#7201a8"
             ],
             [
              0.3333333333333333,
              "#9c179e"
             ],
             [
              0.4444444444444444,
              "#bd3786"
             ],
             [
              0.5555555555555556,
              "#d8576b"
             ],
             [
              0.6666666666666666,
              "#ed7953"
             ],
             [
              0.7777777777777778,
              "#fb9f3a"
             ],
             [
              0.8888888888888888,
              "#fdca26"
             ],
             [
              1,
              "#f0f921"
             ]
            ],
            "type": "histogram2dcontour"
           }
          ],
          "mesh3d": [
           {
            "colorbar": {
             "outlinewidth": 0,
             "ticks": ""
            },
            "type": "mesh3d"
           }
          ],
          "parcoords": [
           {
            "line": {
             "colorbar": {
              "outlinewidth": 0,
              "ticks": ""
             }
            },
            "type": "parcoords"
           }
          ],
          "pie": [
           {
            "automargin": true,
            "type": "pie"
           }
          ],
          "scatter": [
           {
            "fillpattern": {
             "fillmode": "overlay",
             "size": 10,
             "solidity": 0.2
            },
            "type": "scatter"
           }
          ],
          "scatter3d": [
           {
            "line": {
             "colorbar": {
              "outlinewidth": 0,
              "ticks": ""
             }
            },
            "marker": {
             "colorbar": {
              "outlinewidth": 0,
              "ticks": ""
             }
            },
            "type": "scatter3d"
           }
          ],
          "scattercarpet": [
           {
            "marker": {
             "colorbar": {
              "outlinewidth": 0,
              "ticks": ""
             }
            },
            "type": "scattercarpet"
           }
          ],
          "scattergeo": [
           {
            "marker": {
             "colorbar": {
              "outlinewidth": 0,
              "ticks": ""
             }
            },
            "type": "scattergeo"
           }
          ],
          "scattergl": [
           {
            "marker": {
             "colorbar": {
              "outlinewidth": 0,
              "ticks": ""
             }
            },
            "type": "scattergl"
           }
          ],
          "scattermapbox": [
           {
            "marker": {
             "colorbar": {
              "outlinewidth": 0,
              "ticks": ""
             }
            },
            "type": "scattermapbox"
           }
          ],
          "scatterpolar": [
           {
            "marker": {
             "colorbar": {
              "outlinewidth": 0,
              "ticks": ""
             }
            },
            "type": "scatterpolar"
           }
          ],
          "scatterpolargl": [
           {
            "marker": {
             "colorbar": {
              "outlinewidth": 0,
              "ticks": ""
             }
            },
            "type": "scatterpolargl"
           }
          ],
          "scatterternary": [
           {
            "marker": {
             "colorbar": {
              "outlinewidth": 0,
              "ticks": ""
             }
            },
            "type": "scatterternary"
           }
          ],
          "surface": [
           {
            "colorbar": {
             "outlinewidth": 0,
             "ticks": ""
            },
            "colorscale": [
             [
              0,
              "#0d0887"
             ],
             [
              0.1111111111111111,
              "#46039f"
             ],
             [
              0.2222222222222222,
              "#7201a8"
             ],
             [
              0.3333333333333333,
              "#9c179e"
             ],
             [
              0.4444444444444444,
              "#bd3786"
             ],
             [
              0.5555555555555556,
              "#d8576b"
             ],
             [
              0.6666666666666666,
              "#ed7953"
             ],
             [
              0.7777777777777778,
              "#fb9f3a"
             ],
             [
              0.8888888888888888,
              "#fdca26"
             ],
             [
              1,
              "#f0f921"
             ]
            ],
            "type": "surface"
           }
          ],
          "table": [
           {
            "cells": {
             "fill": {
              "color": "#EBF0F8"
             },
             "line": {
              "color": "white"
             }
            },
            "header": {
             "fill": {
              "color": "#C8D4E3"
             },
             "line": {
              "color": "white"
             }
            },
            "type": "table"
           }
          ]
         },
         "layout": {
          "annotationdefaults": {
           "arrowcolor": "#2a3f5f",
           "arrowhead": 0,
           "arrowwidth": 1
          },
          "autotypenumbers": "strict",
          "coloraxis": {
           "colorbar": {
            "outlinewidth": 0,
            "ticks": ""
           }
          },
          "colorscale": {
           "diverging": [
            [
             0,
             "#8e0152"
            ],
            [
             0.1,
             "#c51b7d"
            ],
            [
             0.2,
             "#de77ae"
            ],
            [
             0.3,
             "#f1b6da"
            ],
            [
             0.4,
             "#fde0ef"
            ],
            [
             0.5,
             "#f7f7f7"
            ],
            [
             0.6,
             "#e6f5d0"
            ],
            [
             0.7,
             "#b8e186"
            ],
            [
             0.8,
             "#7fbc41"
            ],
            [
             0.9,
             "#4d9221"
            ],
            [
             1,
             "#276419"
            ]
           ],
           "sequential": [
            [
             0,
             "#0d0887"
            ],
            [
             0.1111111111111111,
             "#46039f"
            ],
            [
             0.2222222222222222,
             "#7201a8"
            ],
            [
             0.3333333333333333,
             "#9c179e"
            ],
            [
             0.4444444444444444,
             "#bd3786"
            ],
            [
             0.5555555555555556,
             "#d8576b"
            ],
            [
             0.6666666666666666,
             "#ed7953"
            ],
            [
             0.7777777777777778,
             "#fb9f3a"
            ],
            [
             0.8888888888888888,
             "#fdca26"
            ],
            [
             1,
             "#f0f921"
            ]
           ],
           "sequentialminus": [
            [
             0,
             "#0d0887"
            ],
            [
             0.1111111111111111,
             "#46039f"
            ],
            [
             0.2222222222222222,
             "#7201a8"
            ],
            [
             0.3333333333333333,
             "#9c179e"
            ],
            [
             0.4444444444444444,
             "#bd3786"
            ],
            [
             0.5555555555555556,
             "#d8576b"
            ],
            [
             0.6666666666666666,
             "#ed7953"
            ],
            [
             0.7777777777777778,
             "#fb9f3a"
            ],
            [
             0.8888888888888888,
             "#fdca26"
            ],
            [
             1,
             "#f0f921"
            ]
           ]
          },
          "colorway": [
           "#636efa",
           "#EF553B",
           "#00cc96",
           "#ab63fa",
           "#FFA15A",
           "#19d3f3",
           "#FF6692",
           "#B6E880",
           "#FF97FF",
           "#FECB52"
          ],
          "font": {
           "color": "#2a3f5f"
          },
          "geo": {
           "bgcolor": "white",
           "lakecolor": "white",
           "landcolor": "#E5ECF6",
           "showlakes": true,
           "showland": true,
           "subunitcolor": "white"
          },
          "hoverlabel": {
           "align": "left"
          },
          "hovermode": "closest",
          "mapbox": {
           "style": "light"
          },
          "paper_bgcolor": "white",
          "plot_bgcolor": "#E5ECF6",
          "polar": {
           "angularaxis": {
            "gridcolor": "white",
            "linecolor": "white",
            "ticks": ""
           },
           "bgcolor": "#E5ECF6",
           "radialaxis": {
            "gridcolor": "white",
            "linecolor": "white",
            "ticks": ""
           }
          },
          "scene": {
           "xaxis": {
            "backgroundcolor": "#E5ECF6",
            "gridcolor": "white",
            "gridwidth": 2,
            "linecolor": "white",
            "showbackground": true,
            "ticks": "",
            "zerolinecolor": "white"
           },
           "yaxis": {
            "backgroundcolor": "#E5ECF6",
            "gridcolor": "white",
            "gridwidth": 2,
            "linecolor": "white",
            "showbackground": true,
            "ticks": "",
            "zerolinecolor": "white"
           },
           "zaxis": {
            "backgroundcolor": "#E5ECF6",
            "gridcolor": "white",
            "gridwidth": 2,
            "linecolor": "white",
            "showbackground": true,
            "ticks": "",
            "zerolinecolor": "white"
           }
          },
          "shapedefaults": {
           "line": {
            "color": "#2a3f5f"
           }
          },
          "ternary": {
           "aaxis": {
            "gridcolor": "white",
            "linecolor": "white",
            "ticks": ""
           },
           "baxis": {
            "gridcolor": "white",
            "linecolor": "white",
            "ticks": ""
           },
           "bgcolor": "#E5ECF6",
           "caxis": {
            "gridcolor": "white",
            "linecolor": "white",
            "ticks": ""
           }
          },
          "title": {
           "x": 0.05
          },
          "xaxis": {
           "automargin": true,
           "gridcolor": "white",
           "linecolor": "white",
           "ticks": "",
           "title": {
            "standoff": 15
           },
           "zerolinecolor": "white",
           "zerolinewidth": 2
          },
          "yaxis": {
           "automargin": true,
           "gridcolor": "white",
           "linecolor": "white",
           "ticks": "",
           "title": {
            "standoff": 15
           },
           "zerolinecolor": "white",
           "zerolinewidth": 2
          }
         }
        },
        "xaxis": {
         "anchor": "y",
         "domain": [
          0,
          1
         ],
         "title": {
          "text": "timestamp"
         }
        },
        "yaxis": {
         "anchor": "x",
         "domain": [
          0,
          1
         ],
         "title": {
          "text": "value"
         }
        }
       }
      }
     },
     "metadata": {},
     "output_type": "display_data"
    }
   ],
   "source": [
    "df_measures.plot(\n",
    "    x=\"timestamp\", y=\"value\", color=\"connected_object_uid\", backend=\"plotly\"\n",
    ")"
   ]
  },
  {
   "cell_type": "code",
   "execution_count": 5,
   "metadata": {},
   "outputs": [
    {
     "data": {
      "text/html": [
       "<div>\n",
       "<style scoped>\n",
       "    .dataframe tbody tr th:only-of-type {\n",
       "        vertical-align: middle;\n",
       "    }\n",
       "\n",
       "    .dataframe tbody tr th {\n",
       "        vertical-align: top;\n",
       "    }\n",
       "\n",
       "    .dataframe thead th {\n",
       "        text-align: right;\n",
       "    }\n",
       "</style>\n",
       "<table border=\"1\" class=\"dataframe\">\n",
       "  <thead>\n",
       "    <tr style=\"text-align: right;\">\n",
       "      <th></th>\n",
       "      <th>site_id</th>\n",
       "      <th>connected_object_uid</th>\n",
       "      <th>device_uid</th>\n",
       "      <th>type</th>\n",
       "      <th>label</th>\n",
       "      <th>time_bucket</th>\n",
       "      <th>timestamp</th>\n",
       "      <th>value</th>\n",
       "    </tr>\n",
       "  </thead>\n",
       "  <tbody>\n",
       "    <tr>\n",
       "      <th>0</th>\n",
       "      <td>0</td>\n",
       "      <td>05ed9851-5343-47d9-9417-99422184eb29</td>\n",
       "      <td>0</td>\n",
       "      <td>chauffage</td>\n",
       "      <td>Mon chauffage maison</td>\n",
       "      <td>202309</td>\n",
       "      <td>2023-09-11 21:00:00</td>\n",
       "      <td>85.772240</td>\n",
       "    </tr>\n",
       "    <tr>\n",
       "      <th>1</th>\n",
       "      <td>0</td>\n",
       "      <td>05ed9851-5343-47d9-9417-99422184eb29</td>\n",
       "      <td>0</td>\n",
       "      <td>chauffage</td>\n",
       "      <td>Mon chauffage maison</td>\n",
       "      <td>202309</td>\n",
       "      <td>2023-09-11 20:00:00</td>\n",
       "      <td>86.070312</td>\n",
       "    </tr>\n",
       "    <tr>\n",
       "      <th>2</th>\n",
       "      <td>0</td>\n",
       "      <td>05ed9851-5343-47d9-9417-99422184eb29</td>\n",
       "      <td>0</td>\n",
       "      <td>chauffage</td>\n",
       "      <td>Mon chauffage maison</td>\n",
       "      <td>202309</td>\n",
       "      <td>2023-09-11 19:00:00</td>\n",
       "      <td>96.677460</td>\n",
       "    </tr>\n",
       "    <tr>\n",
       "      <th>3</th>\n",
       "      <td>0</td>\n",
       "      <td>05ed9851-5343-47d9-9417-99422184eb29</td>\n",
       "      <td>0</td>\n",
       "      <td>chauffage</td>\n",
       "      <td>Mon chauffage maison</td>\n",
       "      <td>202309</td>\n",
       "      <td>2023-09-11 18:00:00</td>\n",
       "      <td>96.364456</td>\n",
       "    </tr>\n",
       "    <tr>\n",
       "      <th>4</th>\n",
       "      <td>0</td>\n",
       "      <td>05ed9851-5343-47d9-9417-99422184eb29</td>\n",
       "      <td>0</td>\n",
       "      <td>chauffage</td>\n",
       "      <td>Mon chauffage maison</td>\n",
       "      <td>202309</td>\n",
       "      <td>2023-09-11 17:00:00</td>\n",
       "      <td>103.131714</td>\n",
       "    </tr>\n",
       "    <tr>\n",
       "      <th>...</th>\n",
       "      <td>...</td>\n",
       "      <td>...</td>\n",
       "      <td>...</td>\n",
       "      <td>...</td>\n",
       "      <td>...</td>\n",
       "      <td>...</td>\n",
       "      <td>...</td>\n",
       "      <td>...</td>\n",
       "    </tr>\n",
       "    <tr>\n",
       "      <th>67</th>\n",
       "      <td>2</td>\n",
       "      <td>14766b2f-4d6f-4849-afdf-d74639ac67a4</td>\n",
       "      <td>2</td>\n",
       "      <td>four</td>\n",
       "      <td>pour faire du pain</td>\n",
       "      <td>202309</td>\n",
       "      <td>2023-09-11 02:00:00</td>\n",
       "      <td>81.306366</td>\n",
       "    </tr>\n",
       "    <tr>\n",
       "      <th>68</th>\n",
       "      <td>2</td>\n",
       "      <td>14766b2f-4d6f-4849-afdf-d74639ac67a4</td>\n",
       "      <td>2</td>\n",
       "      <td>four</td>\n",
       "      <td>pour faire du pain</td>\n",
       "      <td>202309</td>\n",
       "      <td>2023-09-11 01:00:00</td>\n",
       "      <td>89.350723</td>\n",
       "    </tr>\n",
       "    <tr>\n",
       "      <th>69</th>\n",
       "      <td>2</td>\n",
       "      <td>14766b2f-4d6f-4849-afdf-d74639ac67a4</td>\n",
       "      <td>2</td>\n",
       "      <td>four</td>\n",
       "      <td>pour faire du pain</td>\n",
       "      <td>202309</td>\n",
       "      <td>2023-09-11 00:00:00</td>\n",
       "      <td>107.163406</td>\n",
       "    </tr>\n",
       "    <tr>\n",
       "      <th>70</th>\n",
       "      <td>2</td>\n",
       "      <td>14766b2f-4d6f-4849-afdf-d74639ac67a4</td>\n",
       "      <td>2</td>\n",
       "      <td>four</td>\n",
       "      <td>pour faire du pain</td>\n",
       "      <td>202309</td>\n",
       "      <td>2023-09-10 23:00:00</td>\n",
       "      <td>103.425140</td>\n",
       "    </tr>\n",
       "    <tr>\n",
       "      <th>71</th>\n",
       "      <td>2</td>\n",
       "      <td>14766b2f-4d6f-4849-afdf-d74639ac67a4</td>\n",
       "      <td>2</td>\n",
       "      <td>four</td>\n",
       "      <td>pour faire du pain</td>\n",
       "      <td>202309</td>\n",
       "      <td>2023-09-10 22:00:00</td>\n",
       "      <td>102.993332</td>\n",
       "    </tr>\n",
       "  </tbody>\n",
       "</table>\n",
       "<p>72 rows × 8 columns</p>\n",
       "</div>"
      ],
      "text/plain": [
       "    site_id                  connected_object_uid  device_uid       type  \\\n",
       "0         0  05ed9851-5343-47d9-9417-99422184eb29           0  chauffage   \n",
       "1         0  05ed9851-5343-47d9-9417-99422184eb29           0  chauffage   \n",
       "2         0  05ed9851-5343-47d9-9417-99422184eb29           0  chauffage   \n",
       "3         0  05ed9851-5343-47d9-9417-99422184eb29           0  chauffage   \n",
       "4         0  05ed9851-5343-47d9-9417-99422184eb29           0  chauffage   \n",
       "..      ...                                   ...         ...        ...   \n",
       "67        2  14766b2f-4d6f-4849-afdf-d74639ac67a4           2       four   \n",
       "68        2  14766b2f-4d6f-4849-afdf-d74639ac67a4           2       four   \n",
       "69        2  14766b2f-4d6f-4849-afdf-d74639ac67a4           2       four   \n",
       "70        2  14766b2f-4d6f-4849-afdf-d74639ac67a4           2       four   \n",
       "71        2  14766b2f-4d6f-4849-afdf-d74639ac67a4           2       four   \n",
       "\n",
       "                   label time_bucket           timestamp       value  \n",
       "0   Mon chauffage maison      202309 2023-09-11 21:00:00   85.772240  \n",
       "1   Mon chauffage maison      202309 2023-09-11 20:00:00   86.070312  \n",
       "2   Mon chauffage maison      202309 2023-09-11 19:00:00   96.677460  \n",
       "3   Mon chauffage maison      202309 2023-09-11 18:00:00   96.364456  \n",
       "4   Mon chauffage maison      202309 2023-09-11 17:00:00  103.131714  \n",
       "..                   ...         ...                 ...         ...  \n",
       "67    pour faire du pain      202309 2023-09-11 02:00:00   81.306366  \n",
       "68    pour faire du pain      202309 2023-09-11 01:00:00   89.350723  \n",
       "69    pour faire du pain      202309 2023-09-11 00:00:00  107.163406  \n",
       "70    pour faire du pain      202309 2023-09-10 23:00:00  103.425140  \n",
       "71    pour faire du pain      202309 2023-09-10 22:00:00  102.993332  \n",
       "\n",
       "[72 rows x 8 columns]"
      ]
     },
     "execution_count": 5,
     "metadata": {},
     "output_type": "execute_result"
    }
   ],
   "source": [
    "df_validation = pd.read_parquet(\"../data/validation.parquet\")\n",
    "df_validation"
   ]
  },
  {
   "cell_type": "code",
   "execution_count": 6,
   "metadata": {},
   "outputs": [
    {
     "data": {
      "application/vnd.plotly.v1+json": {
       "config": {
        "plotlyServerURL": "https://plot.ly"
       },
       "data": [
        {
         "hovertemplate": "label=Mon chauffage maison<br>timestamp=%{x}<br>value=%{y}<extra></extra>",
         "legendgroup": "Mon chauffage maison",
         "line": {
          "color": "#636efa",
          "dash": "solid"
         },
         "marker": {
          "symbol": "circle"
         },
         "mode": "lines",
         "name": "Mon chauffage maison",
         "orientation": "v",
         "showlegend": true,
         "type": "scatter",
         "x": [
          "2023-09-11T21:00:00",
          "2023-09-11T20:00:00",
          "2023-09-11T19:00:00",
          "2023-09-11T18:00:00",
          "2023-09-11T17:00:00",
          "2023-09-11T16:00:00",
          "2023-09-11T15:00:00",
          "2023-09-11T14:00:00",
          "2023-09-11T13:00:00",
          "2023-09-11T12:00:00",
          "2023-09-11T11:00:00",
          "2023-09-11T10:00:00",
          "2023-09-11T09:00:00",
          "2023-09-11T08:00:00",
          "2023-09-11T07:00:00",
          "2023-09-11T06:00:00",
          "2023-09-11T05:00:00",
          "2023-09-11T04:00:00",
          "2023-09-11T03:00:00",
          "2023-09-11T02:00:00",
          "2023-09-11T01:00:00",
          "2023-09-11T00:00:00",
          "2023-09-10T23:00:00",
          "2023-09-10T22:00:00"
         ],
         "xaxis": "x",
         "y": [
          85.7722396850586,
          86.0703125,
          96.67745971679688,
          96.36445617675781,
          103.1317138671875,
          103.00402069091797,
          106.04815673828125,
          93.3011474609375,
          104.07514190673828,
          108.5295181274414,
          95.86017608642578,
          107.50579071044922,
          103.01787567138672,
          123.67249298095703,
          106.15052032470703,
          89.1875,
          115.1399917602539,
          94.9015121459961,
          106.84690856933594,
          93.70437622070312,
          119.25321960449219,
          94.53282165527344,
          90.44571685791016,
          116.0048599243164
         ],
         "yaxis": "y"
        },
        {
         "hovertemplate": "label=Le chauffage c'est la vie<br>timestamp=%{x}<br>value=%{y}<extra></extra>",
         "legendgroup": "Le chauffage c'est la vie",
         "line": {
          "color": "#EF553B",
          "dash": "solid"
         },
         "marker": {
          "symbol": "circle"
         },
         "mode": "lines",
         "name": "Le chauffage c'est la vie",
         "orientation": "v",
         "showlegend": true,
         "type": "scatter",
         "x": [
          "2023-09-11T21:00:00",
          "2023-09-11T20:00:00",
          "2023-09-11T19:00:00",
          "2023-09-11T18:00:00",
          "2023-09-11T17:00:00",
          "2023-09-11T16:00:00",
          "2023-09-11T15:00:00",
          "2023-09-11T14:00:00",
          "2023-09-11T13:00:00",
          "2023-09-11T12:00:00",
          "2023-09-11T11:00:00",
          "2023-09-11T10:00:00",
          "2023-09-11T09:00:00",
          "2023-09-11T08:00:00",
          "2023-09-11T07:00:00",
          "2023-09-11T06:00:00",
          "2023-09-11T05:00:00",
          "2023-09-11T04:00:00",
          "2023-09-11T03:00:00",
          "2023-09-11T02:00:00",
          "2023-09-11T01:00:00",
          "2023-09-11T00:00:00",
          "2023-09-10T23:00:00",
          "2023-09-10T22:00:00"
         ],
         "xaxis": "x",
         "y": [
          123.56678009033203,
          108.77442169189453,
          91.6167221069336,
          110.88063049316406,
          95.75822448730469,
          95.24462127685547,
          93.4195327758789,
          91.4130859375,
          104.0638656616211,
          112.34980010986328,
          105.29154205322266,
          107.55343627929688,
          98.71573638916016,
          112.26304626464844,
          114.57499694824219,
          79.35519409179688,
          76.70613861083984,
          100.79724884033203,
          110.47293090820312,
          115.52086639404297,
          102.79618072509766,
          108.60684204101562,
          115.82783508300781,
          104.77916717529297
         ],
         "yaxis": "y"
        },
        {
         "hovertemplate": "label=pour faire du pain<br>timestamp=%{x}<br>value=%{y}<extra></extra>",
         "legendgroup": "pour faire du pain",
         "line": {
          "color": "#00cc96",
          "dash": "solid"
         },
         "marker": {
          "symbol": "circle"
         },
         "mode": "lines",
         "name": "pour faire du pain",
         "orientation": "v",
         "showlegend": true,
         "type": "scatter",
         "x": [
          "2023-09-11T21:00:00",
          "2023-09-11T20:00:00",
          "2023-09-11T19:00:00",
          "2023-09-11T18:00:00",
          "2023-09-11T17:00:00",
          "2023-09-11T16:00:00",
          "2023-09-11T15:00:00",
          "2023-09-11T14:00:00",
          "2023-09-11T13:00:00",
          "2023-09-11T12:00:00",
          "2023-09-11T11:00:00",
          "2023-09-11T10:00:00",
          "2023-09-11T09:00:00",
          "2023-09-11T08:00:00",
          "2023-09-11T07:00:00",
          "2023-09-11T06:00:00",
          "2023-09-11T05:00:00",
          "2023-09-11T04:00:00",
          "2023-09-11T03:00:00",
          "2023-09-11T02:00:00",
          "2023-09-11T01:00:00",
          "2023-09-11T00:00:00",
          "2023-09-10T23:00:00",
          "2023-09-10T22:00:00"
         ],
         "xaxis": "x",
         "y": [
          100.6409683227539,
          95.1367416381836,
          119.85234832763672,
          79.4274673461914,
          102.39405059814453,
          106.4118881225586,
          123.88029479980469,
          100.08533477783203,
          104.67440795898438,
          115.107666015625,
          101.7059326171875,
          99.23570251464844,
          101.9082260131836,
          104.24056243896484,
          108.77084350585938,
          97.43132019042969,
          103.70519256591797,
          90.41007995605469,
          90.70208740234375,
          81.30636596679688,
          89.35072326660156,
          107.16340637207031,
          103.42514038085938,
          102.99333190917969
         ],
         "yaxis": "y"
        }
       ],
       "layout": {
        "legend": {
         "title": {
          "text": "label"
         },
         "tracegroupgap": 0
        },
        "margin": {
         "t": 60
        },
        "template": {
         "data": {
          "bar": [
           {
            "error_x": {
             "color": "#2a3f5f"
            },
            "error_y": {
             "color": "#2a3f5f"
            },
            "marker": {
             "line": {
              "color": "#E5ECF6",
              "width": 0.5
             },
             "pattern": {
              "fillmode": "overlay",
              "size": 10,
              "solidity": 0.2
             }
            },
            "type": "bar"
           }
          ],
          "barpolar": [
           {
            "marker": {
             "line": {
              "color": "#E5ECF6",
              "width": 0.5
             },
             "pattern": {
              "fillmode": "overlay",
              "size": 10,
              "solidity": 0.2
             }
            },
            "type": "barpolar"
           }
          ],
          "carpet": [
           {
            "aaxis": {
             "endlinecolor": "#2a3f5f",
             "gridcolor": "white",
             "linecolor": "white",
             "minorgridcolor": "white",
             "startlinecolor": "#2a3f5f"
            },
            "baxis": {
             "endlinecolor": "#2a3f5f",
             "gridcolor": "white",
             "linecolor": "white",
             "minorgridcolor": "white",
             "startlinecolor": "#2a3f5f"
            },
            "type": "carpet"
           }
          ],
          "choropleth": [
           {
            "colorbar": {
             "outlinewidth": 0,
             "ticks": ""
            },
            "type": "choropleth"
           }
          ],
          "contour": [
           {
            "colorbar": {
             "outlinewidth": 0,
             "ticks": ""
            },
            "colorscale": [
             [
              0,
              "#0d0887"
             ],
             [
              0.1111111111111111,
              "#46039f"
             ],
             [
              0.2222222222222222,
              "#7201a8"
             ],
             [
              0.3333333333333333,
              "#9c179e"
             ],
             [
              0.4444444444444444,
              "#bd3786"
             ],
             [
              0.5555555555555556,
              "#d8576b"
             ],
             [
              0.6666666666666666,
              "#ed7953"
             ],
             [
              0.7777777777777778,
              "#fb9f3a"
             ],
             [
              0.8888888888888888,
              "#fdca26"
             ],
             [
              1,
              "#f0f921"
             ]
            ],
            "type": "contour"
           }
          ],
          "contourcarpet": [
           {
            "colorbar": {
             "outlinewidth": 0,
             "ticks": ""
            },
            "type": "contourcarpet"
           }
          ],
          "heatmap": [
           {
            "colorbar": {
             "outlinewidth": 0,
             "ticks": ""
            },
            "colorscale": [
             [
              0,
              "#0d0887"
             ],
             [
              0.1111111111111111,
              "#46039f"
             ],
             [
              0.2222222222222222,
              "#7201a8"
             ],
             [
              0.3333333333333333,
              "#9c179e"
             ],
             [
              0.4444444444444444,
              "#bd3786"
             ],
             [
              0.5555555555555556,
              "#d8576b"
             ],
             [
              0.6666666666666666,
              "#ed7953"
             ],
             [
              0.7777777777777778,
              "#fb9f3a"
             ],
             [
              0.8888888888888888,
              "#fdca26"
             ],
             [
              1,
              "#f0f921"
             ]
            ],
            "type": "heatmap"
           }
          ],
          "heatmapgl": [
           {
            "colorbar": {
             "outlinewidth": 0,
             "ticks": ""
            },
            "colorscale": [
             [
              0,
              "#0d0887"
             ],
             [
              0.1111111111111111,
              "#46039f"
             ],
             [
              0.2222222222222222,
              "#7201a8"
             ],
             [
              0.3333333333333333,
              "#9c179e"
             ],
             [
              0.4444444444444444,
              "#bd3786"
             ],
             [
              0.5555555555555556,
              "#d8576b"
             ],
             [
              0.6666666666666666,
              "#ed7953"
             ],
             [
              0.7777777777777778,
              "#fb9f3a"
             ],
             [
              0.8888888888888888,
              "#fdca26"
             ],
             [
              1,
              "#f0f921"
             ]
            ],
            "type": "heatmapgl"
           }
          ],
          "histogram": [
           {
            "marker": {
             "pattern": {
              "fillmode": "overlay",
              "size": 10,
              "solidity": 0.2
             }
            },
            "type": "histogram"
           }
          ],
          "histogram2d": [
           {
            "colorbar": {
             "outlinewidth": 0,
             "ticks": ""
            },
            "colorscale": [
             [
              0,
              "#0d0887"
             ],
             [
              0.1111111111111111,
              "#46039f"
             ],
             [
              0.2222222222222222,
              "#7201a8"
             ],
             [
              0.3333333333333333,
              "#9c179e"
             ],
             [
              0.4444444444444444,
              "#bd3786"
             ],
             [
              0.5555555555555556,
              "#d8576b"
             ],
             [
              0.6666666666666666,
              "#ed7953"
             ],
             [
              0.7777777777777778,
              "#fb9f3a"
             ],
             [
              0.8888888888888888,
              "#fdca26"
             ],
             [
              1,
              "#f0f921"
             ]
            ],
            "type": "histogram2d"
           }
          ],
          "histogram2dcontour": [
           {
            "colorbar": {
             "outlinewidth": 0,
             "ticks": ""
            },
            "colorscale": [
             [
              0,
              "#0d0887"
             ],
             [
              0.1111111111111111,
              "#46039f"
             ],
             [
              0.2222222222222222,
              "#7201a8"
             ],
             [
              0.3333333333333333,
              "#9c179e"
             ],
             [
              0.4444444444444444,
              "#bd3786"
             ],
             [
              0.5555555555555556,
              "#d8576b"
             ],
             [
              0.6666666666666666,
              "#ed7953"
             ],
             [
              0.7777777777777778,
              "#fb9f3a"
             ],
             [
              0.8888888888888888,
              "#fdca26"
             ],
             [
              1,
              "#f0f921"
             ]
            ],
            "type": "histogram2dcontour"
           }
          ],
          "mesh3d": [
           {
            "colorbar": {
             "outlinewidth": 0,
             "ticks": ""
            },
            "type": "mesh3d"
           }
          ],
          "parcoords": [
           {
            "line": {
             "colorbar": {
              "outlinewidth": 0,
              "ticks": ""
             }
            },
            "type": "parcoords"
           }
          ],
          "pie": [
           {
            "automargin": true,
            "type": "pie"
           }
          ],
          "scatter": [
           {
            "fillpattern": {
             "fillmode": "overlay",
             "size": 10,
             "solidity": 0.2
            },
            "type": "scatter"
           }
          ],
          "scatter3d": [
           {
            "line": {
             "colorbar": {
              "outlinewidth": 0,
              "ticks": ""
             }
            },
            "marker": {
             "colorbar": {
              "outlinewidth": 0,
              "ticks": ""
             }
            },
            "type": "scatter3d"
           }
          ],
          "scattercarpet": [
           {
            "marker": {
             "colorbar": {
              "outlinewidth": 0,
              "ticks": ""
             }
            },
            "type": "scattercarpet"
           }
          ],
          "scattergeo": [
           {
            "marker": {
             "colorbar": {
              "outlinewidth": 0,
              "ticks": ""
             }
            },
            "type": "scattergeo"
           }
          ],
          "scattergl": [
           {
            "marker": {
             "colorbar": {
              "outlinewidth": 0,
              "ticks": ""
             }
            },
            "type": "scattergl"
           }
          ],
          "scattermapbox": [
           {
            "marker": {
             "colorbar": {
              "outlinewidth": 0,
              "ticks": ""
             }
            },
            "type": "scattermapbox"
           }
          ],
          "scatterpolar": [
           {
            "marker": {
             "colorbar": {
              "outlinewidth": 0,
              "ticks": ""
             }
            },
            "type": "scatterpolar"
           }
          ],
          "scatterpolargl": [
           {
            "marker": {
             "colorbar": {
              "outlinewidth": 0,
              "ticks": ""
             }
            },
            "type": "scatterpolargl"
           }
          ],
          "scatterternary": [
           {
            "marker": {
             "colorbar": {
              "outlinewidth": 0,
              "ticks": ""
             }
            },
            "type": "scatterternary"
           }
          ],
          "surface": [
           {
            "colorbar": {
             "outlinewidth": 0,
             "ticks": ""
            },
            "colorscale": [
             [
              0,
              "#0d0887"
             ],
             [
              0.1111111111111111,
              "#46039f"
             ],
             [
              0.2222222222222222,
              "#7201a8"
             ],
             [
              0.3333333333333333,
              "#9c179e"
             ],
             [
              0.4444444444444444,
              "#bd3786"
             ],
             [
              0.5555555555555556,
              "#d8576b"
             ],
             [
              0.6666666666666666,
              "#ed7953"
             ],
             [
              0.7777777777777778,
              "#fb9f3a"
             ],
             [
              0.8888888888888888,
              "#fdca26"
             ],
             [
              1,
              "#f0f921"
             ]
            ],
            "type": "surface"
           }
          ],
          "table": [
           {
            "cells": {
             "fill": {
              "color": "#EBF0F8"
             },
             "line": {
              "color": "white"
             }
            },
            "header": {
             "fill": {
              "color": "#C8D4E3"
             },
             "line": {
              "color": "white"
             }
            },
            "type": "table"
           }
          ]
         },
         "layout": {
          "annotationdefaults": {
           "arrowcolor": "#2a3f5f",
           "arrowhead": 0,
           "arrowwidth": 1
          },
          "autotypenumbers": "strict",
          "coloraxis": {
           "colorbar": {
            "outlinewidth": 0,
            "ticks": ""
           }
          },
          "colorscale": {
           "diverging": [
            [
             0,
             "#8e0152"
            ],
            [
             0.1,
             "#c51b7d"
            ],
            [
             0.2,
             "#de77ae"
            ],
            [
             0.3,
             "#f1b6da"
            ],
            [
             0.4,
             "#fde0ef"
            ],
            [
             0.5,
             "#f7f7f7"
            ],
            [
             0.6,
             "#e6f5d0"
            ],
            [
             0.7,
             "#b8e186"
            ],
            [
             0.8,
             "#7fbc41"
            ],
            [
             0.9,
             "#4d9221"
            ],
            [
             1,
             "#276419"
            ]
           ],
           "sequential": [
            [
             0,
             "#0d0887"
            ],
            [
             0.1111111111111111,
             "#46039f"
            ],
            [
             0.2222222222222222,
             "#7201a8"
            ],
            [
             0.3333333333333333,
             "#9c179e"
            ],
            [
             0.4444444444444444,
             "#bd3786"
            ],
            [
             0.5555555555555556,
             "#d8576b"
            ],
            [
             0.6666666666666666,
             "#ed7953"
            ],
            [
             0.7777777777777778,
             "#fb9f3a"
            ],
            [
             0.8888888888888888,
             "#fdca26"
            ],
            [
             1,
             "#f0f921"
            ]
           ],
           "sequentialminus": [
            [
             0,
             "#0d0887"
            ],
            [
             0.1111111111111111,
             "#46039f"
            ],
            [
             0.2222222222222222,
             "#7201a8"
            ],
            [
             0.3333333333333333,
             "#9c179e"
            ],
            [
             0.4444444444444444,
             "#bd3786"
            ],
            [
             0.5555555555555556,
             "#d8576b"
            ],
            [
             0.6666666666666666,
             "#ed7953"
            ],
            [
             0.7777777777777778,
             "#fb9f3a"
            ],
            [
             0.8888888888888888,
             "#fdca26"
            ],
            [
             1,
             "#f0f921"
            ]
           ]
          },
          "colorway": [
           "#636efa",
           "#EF553B",
           "#00cc96",
           "#ab63fa",
           "#FFA15A",
           "#19d3f3",
           "#FF6692",
           "#B6E880",
           "#FF97FF",
           "#FECB52"
          ],
          "font": {
           "color": "#2a3f5f"
          },
          "geo": {
           "bgcolor": "white",
           "lakecolor": "white",
           "landcolor": "#E5ECF6",
           "showlakes": true,
           "showland": true,
           "subunitcolor": "white"
          },
          "hoverlabel": {
           "align": "left"
          },
          "hovermode": "closest",
          "mapbox": {
           "style": "light"
          },
          "paper_bgcolor": "white",
          "plot_bgcolor": "#E5ECF6",
          "polar": {
           "angularaxis": {
            "gridcolor": "white",
            "linecolor": "white",
            "ticks": ""
           },
           "bgcolor": "#E5ECF6",
           "radialaxis": {
            "gridcolor": "white",
            "linecolor": "white",
            "ticks": ""
           }
          },
          "scene": {
           "xaxis": {
            "backgroundcolor": "#E5ECF6",
            "gridcolor": "white",
            "gridwidth": 2,
            "linecolor": "white",
            "showbackground": true,
            "ticks": "",
            "zerolinecolor": "white"
           },
           "yaxis": {
            "backgroundcolor": "#E5ECF6",
            "gridcolor": "white",
            "gridwidth": 2,
            "linecolor": "white",
            "showbackground": true,
            "ticks": "",
            "zerolinecolor": "white"
           },
           "zaxis": {
            "backgroundcolor": "#E5ECF6",
            "gridcolor": "white",
            "gridwidth": 2,
            "linecolor": "white",
            "showbackground": true,
            "ticks": "",
            "zerolinecolor": "white"
           }
          },
          "shapedefaults": {
           "line": {
            "color": "#2a3f5f"
           }
          },
          "ternary": {
           "aaxis": {
            "gridcolor": "white",
            "linecolor": "white",
            "ticks": ""
           },
           "baxis": {
            "gridcolor": "white",
            "linecolor": "white",
            "ticks": ""
           },
           "bgcolor": "#E5ECF6",
           "caxis": {
            "gridcolor": "white",
            "linecolor": "white",
            "ticks": ""
           }
          },
          "title": {
           "x": 0.05
          },
          "xaxis": {
           "automargin": true,
           "gridcolor": "white",
           "linecolor": "white",
           "ticks": "",
           "title": {
            "standoff": 15
           },
           "zerolinecolor": "white",
           "zerolinewidth": 2
          },
          "yaxis": {
           "automargin": true,
           "gridcolor": "white",
           "linecolor": "white",
           "ticks": "",
           "title": {
            "standoff": 15
           },
           "zerolinecolor": "white",
           "zerolinewidth": 2
          }
         }
        },
        "xaxis": {
         "anchor": "y",
         "domain": [
          0,
          1
         ],
         "title": {
          "text": "timestamp"
         }
        },
        "yaxis": {
         "anchor": "x",
         "domain": [
          0,
          1
         ],
         "title": {
          "text": "value"
         }
        }
       }
      }
     },
     "metadata": {},
     "output_type": "display_data"
    }
   ],
   "source": [
    "df_validation.plot(x=\"timestamp\", y=\"value\", color=\"label\", backend=\"plotly\")"
   ]
  },
  {
   "cell_type": "code",
   "execution_count": null,
   "metadata": {},
   "outputs": [],
   "source": []
  }
 ],
 "metadata": {
  "kernelspec": {
   "display_name": "venv",
   "language": "python",
   "name": "python3"
  },
  "language_info": {
   "codemirror_mode": {
    "name": "ipython",
    "version": 3
   },
   "file_extension": ".py",
   "mimetype": "text/x-python",
   "name": "python",
   "nbconvert_exporter": "python",
   "pygments_lexer": "ipython3",
   "version": "3.11.5"
  }
 },
 "nbformat": 4,
 "nbformat_minor": 2
}
