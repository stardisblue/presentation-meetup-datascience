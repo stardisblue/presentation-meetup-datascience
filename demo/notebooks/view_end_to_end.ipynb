{
 "cells": [
  {
   "cell_type": "code",
   "execution_count": 1,
   "id": "initial_id",
   "metadata": {
    "ExecuteTime": {
     "end_time": "2023-12-11T22:29:14.036696285Z",
     "start_time": "2023-12-11T22:29:13.951328055Z"
    },
    "collapsed": true
   },
   "outputs": [],
   "source": [
    "from pyspark.sql import SparkSession"
   ]
  },
  {
   "cell_type": "code",
   "execution_count": null,
   "id": "c50d4ff4de266472",
   "metadata": {
    "ExecuteTime": {
     "end_time": "2023-12-11T22:29:19.258539226Z",
     "start_time": "2023-12-11T22:29:14.036486614Z"
    },
    "collapsed": false
   },
   "outputs": [],
   "source": [
    "spark = (\n",
    "    SparkSession.builder.master(\"local[2]\")\n",
    "    .appName(\"demo\")\n",
    "    .config(\n",
    "        map={\n",
    "            \"spark.driver.memory\": \"2G\",\n",
    "            \"spark.jars.packages\": \"com.datastax.spark:spark-cassandra-connector_2.12:3.4.1,org.postgresql:postgresql:42.6.0\",\n",
    "            \"spark.sql.extensions\": \"com.datastax.spark.connector.CassandraSparkExtensions\",\n",
    "            \"spark.sql.catalog.comwatt\": \"com.datastax.spark.connector.datasource.CassandraCatalog\",\n",
    "            \"spark.sql.catalog.comwatt.spark.cassandra.connection.compression\": \"LZ4\",\n",
    "            \"spark.sql.catalog.comwatt.spark.cassandra.connection.host\": \"localhost:9042\",\n",
    "        }\n",
    "    )\n",
    "    .getOrCreate()\n",
    ")"
   ]
  },
  {
   "cell_type": "code",
   "execution_count": 3,
   "id": "19dc81e78a0b9893",
   "metadata": {
    "ExecuteTime": {
     "end_time": "2023-12-11T22:29:21.703310182Z",
     "start_time": "2023-12-11T22:29:19.260810229Z"
    },
    "collapsed": false
   },
   "outputs": [
    {
     "name": "stdout",
     "output_type": "stream",
     "text": [
      "+----------+------------------------------------+-------+---------+-------------------------+\n",
      "|device_uid|connected_object_uid                |site_id|type     |label                    |\n",
      "+----------+------------------------------------+-------+---------+-------------------------+\n",
      "|0         |05ed9851-5343-47d9-9417-99422184eb29|0      |chauffage|Mon chauffage maison     |\n",
      "|1         |0fd49130-1973-418f-b101-3682942654e0|1      |chauffage|Le chauffage c'est la vie|\n",
      "|2         |14766b2f-4d6f-4849-afdf-d74639ac67a4|2      |four     |pour faire du pain       |\n",
      "+----------+------------------------------------+-------+---------+-------------------------+\n"
     ]
    }
   ],
   "source": [
    "from demo.adapters.postgres_reader import PostgresClient, PostgresReader\n",
    "\n",
    "pg_client = PostgresClient(\n",
    "    spark, \"jdbc:postgresql://localhost:5432/comwatt\", \"postgres\", \"demo_password\"\n",
    ")\n",
    "PostgresReader(pg_client, \"devices\")().show(truncate=False)"
   ]
  },
  {
   "cell_type": "code",
   "execution_count": 4,
   "id": "45e3c463ea405673",
   "metadata": {
    "ExecuteTime": {
     "end_time": "2023-12-11T22:29:23.063805311Z",
     "start_time": "2023-12-11T22:29:21.703753548Z"
    },
    "collapsed": false
   },
   "outputs": [
    {
     "name": "stdout",
     "output_type": "stream",
     "text": [
      "+-------+-----------+------------------------------------+-------------------+----------+\n",
      "|site_id|time_bucket|connected_object_uid                |timestamp          |value     |\n",
      "+-------+-----------+------------------------------------+-------------------+----------+\n",
      "|1      |202309     |0fd49130-1973-418f-b101-3682942654e0|2023-09-12 01:00:00|106.82685 |\n",
      "|1      |202309     |0fd49130-1973-418f-b101-3682942654e0|2023-09-12 00:00:00|95.88386  |\n",
      "|1      |202309     |0fd49130-1973-418f-b101-3682942654e0|2023-09-11 23:00:00|123.56678 |\n",
      "|1      |202309     |0fd49130-1973-418f-b101-3682942654e0|2023-09-11 22:00:00|108.77442 |\n",
      "|1      |202309     |0fd49130-1973-418f-b101-3682942654e0|2023-09-11 21:00:00|91.61672  |\n",
      "|1      |202309     |0fd49130-1973-418f-b101-3682942654e0|2023-09-11 20:00:00|110.88063 |\n",
      "|1      |202309     |0fd49130-1973-418f-b101-3682942654e0|2023-09-11 19:00:00|95.758224 |\n",
      "|1      |202309     |0fd49130-1973-418f-b101-3682942654e0|2023-09-11 18:00:00|95.24462  |\n",
      "|1      |202309     |0fd49130-1973-418f-b101-3682942654e0|2023-09-11 17:00:00|93.41953  |\n",
      "|1      |202309     |0fd49130-1973-418f-b101-3682942654e0|2023-09-11 16:00:00|91.413086 |\n",
      "|1      |202309     |0fd49130-1973-418f-b101-3682942654e0|2023-09-11 15:00:00|104.063866|\n",
      "|1      |202309     |0fd49130-1973-418f-b101-3682942654e0|2023-09-11 14:00:00|112.3498  |\n",
      "|1      |202309     |0fd49130-1973-418f-b101-3682942654e0|2023-09-11 13:00:00|105.29154 |\n",
      "|1      |202309     |0fd49130-1973-418f-b101-3682942654e0|2023-09-11 12:00:00|107.55344 |\n",
      "|1      |202309     |0fd49130-1973-418f-b101-3682942654e0|2023-09-11 11:00:00|98.71574  |\n",
      "|1      |202309     |0fd49130-1973-418f-b101-3682942654e0|2023-09-11 10:00:00|112.26305 |\n",
      "|1      |202309     |0fd49130-1973-418f-b101-3682942654e0|2023-09-11 09:00:00|114.575   |\n",
      "|1      |202309     |0fd49130-1973-418f-b101-3682942654e0|2023-09-11 08:00:00|79.355194 |\n",
      "|1      |202309     |0fd49130-1973-418f-b101-3682942654e0|2023-09-11 07:00:00|76.70614  |\n",
      "|1      |202309     |0fd49130-1973-418f-b101-3682942654e0|2023-09-11 06:00:00|100.79725 |\n",
      "+-------+-----------+------------------------------------+-------------------+----------+\n"
     ]
    }
   ],
   "source": [
    "from demo.adapters.cassandra_reader import CassandraClient, CassandraReader\n",
    "\n",
    "cass_client = CassandraClient(spark, \"comwatt.comwatt\")\n",
    "CassandraReader(cass_client, \"measures\")().show(truncate=False)"
   ]
  }
 ],
 "metadata": {
  "kernelspec": {
   "display_name": "Python 3",
   "language": "python",
   "name": "python3"
  },
  "language_info": {
   "codemirror_mode": {
    "name": "ipython",
    "version": 2
   },
   "file_extension": ".py",
   "mimetype": "text/x-python",
   "name": "python",
   "nbconvert_exporter": "python",
   "pygments_lexer": "ipython2",
   "version": "3.11.5"
  }
 },
 "nbformat": 4,
 "nbformat_minor": 5
}
