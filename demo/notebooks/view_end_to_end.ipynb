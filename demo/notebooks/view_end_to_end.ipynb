{
 "cells": [
  {
   "cell_type": "code",
   "execution_count": 1,
   "id": "initial_id",
   "metadata": {
    "collapsed": true,
    "ExecuteTime": {
     "end_time": "2023-12-11T22:29:14.036696285Z",
     "start_time": "2023-12-11T22:29:13.951328055Z"
    }
   },
   "outputs": [],
   "source": [
    "from pyspark.sql import SparkSession\n"
   ]
  },
  {
   "cell_type": "code",
   "execution_count": 2,
   "outputs": [
    {
     "name": "stderr",
     "output_type": "stream",
     "text": [
      "23/12/11 23:29:14 WARN Utils: Your hostname, LTO-CWT060 resolves to a loopback address: 127.0.1.1; using 192.168.0.23 instead (on interface wlp0s20f3)\n",
      "23/12/11 23:29:14 WARN Utils: Set SPARK_LOCAL_IP if you need to bind to another address\n",
      "Ivy Default Cache set to: /home/chen/.ivy2/cache\n",
      "The jars for the packages stored in: /home/chen/.ivy2/jars\n",
      "com.datastax.spark#spark-cassandra-connector_2.12 added as a dependency\n",
      "org.postgresql#postgresql added as a dependency\n",
      ":: resolving dependencies :: org.apache.spark#spark-submit-parent-2325ac30-dee7-44f2-9333-af942ad6ab0d;1.0\n",
      "\tconfs: [default]\n"
     ]
    },
    {
     "name": "stdout",
     "output_type": "stream",
     "text": [
      ":: loading settings :: url = jar:file:/home/chen/Documents/presentation-meetup-datascience/demo/.venv/lib/python3.11/site-packages/pyspark/jars/ivy-2.5.1.jar!/org/apache/ivy/core/settings/ivysettings.xml\n"
     ]
    },
    {
     "name": "stderr",
     "output_type": "stream",
     "text": [
      "\tfound com.datastax.spark#spark-cassandra-connector_2.12;3.4.1 in central\n",
      "\tfound com.datastax.spark#spark-cassandra-connector-driver_2.12;3.4.1 in central\n",
      "\tfound org.scala-lang.modules#scala-collection-compat_2.12;2.11.0 in central\n",
      "\tfound com.datastax.oss#java-driver-core-shaded;4.13.0 in central\n",
      "\tfound com.datastax.oss#native-protocol;1.5.0 in central\n",
      "\tfound com.datastax.oss#java-driver-shaded-guava;25.1-jre-graal-sub-1 in local-m2-cache\n",
      "\tfound com.typesafe#config;1.4.1 in local-m2-cache\n",
      "\tfound org.slf4j#slf4j-api;1.7.26 in local-m2-cache\n",
      "\tfound io.dropwizard.metrics#metrics-core;4.1.18 in central\n",
      "\tfound org.hdrhistogram#HdrHistogram;2.1.12 in local-m2-cache\n",
      "\tfound org.reactivestreams#reactive-streams;1.0.3 in central\n",
      "\tfound com.github.stephenc.jcip#jcip-annotations;1.0-1 in local-m2-cache\n",
      "\tfound com.github.spotbugs#spotbugs-annotations;3.1.12 in local-m2-cache\n",
      "\tfound com.google.code.findbugs#jsr305;3.0.2 in spark-list\n",
      "\tfound com.datastax.oss#java-driver-mapper-runtime;4.13.0 in central\n",
      "\tfound com.datastax.oss#java-driver-query-builder;4.13.0 in central\n",
      "\tfound org.apache.commons#commons-lang3;3.10 in central\n",
      "\tfound com.thoughtworks.paranamer#paranamer;2.8 in local-m2-cache\n",
      "\tfound org.scala-lang#scala-reflect;2.12.11 in spark-list\n",
      "\tfound org.postgresql#postgresql;42.6.0 in central\n",
      "\tfound org.checkerframework#checker-qual;3.31.0 in central\n",
      ":: resolution report :: resolve 2736ms :: artifacts dl 7ms\n",
      "\t:: modules in use:\n",
      "\tcom.datastax.oss#java-driver-core-shaded;4.13.0 from central in [default]\n",
      "\tcom.datastax.oss#java-driver-mapper-runtime;4.13.0 from central in [default]\n",
      "\tcom.datastax.oss#java-driver-query-builder;4.13.0 from central in [default]\n",
      "\tcom.datastax.oss#java-driver-shaded-guava;25.1-jre-graal-sub-1 from local-m2-cache in [default]\n",
      "\tcom.datastax.oss#native-protocol;1.5.0 from central in [default]\n",
      "\tcom.datastax.spark#spark-cassandra-connector-driver_2.12;3.4.1 from central in [default]\n",
      "\tcom.datastax.spark#spark-cassandra-connector_2.12;3.4.1 from central in [default]\n",
      "\tcom.github.spotbugs#spotbugs-annotations;3.1.12 from local-m2-cache in [default]\n",
      "\tcom.github.stephenc.jcip#jcip-annotations;1.0-1 from local-m2-cache in [default]\n",
      "\tcom.google.code.findbugs#jsr305;3.0.2 from spark-list in [default]\n",
      "\tcom.thoughtworks.paranamer#paranamer;2.8 from local-m2-cache in [default]\n",
      "\tcom.typesafe#config;1.4.1 from local-m2-cache in [default]\n",
      "\tio.dropwizard.metrics#metrics-core;4.1.18 from central in [default]\n",
      "\torg.apache.commons#commons-lang3;3.10 from central in [default]\n",
      "\torg.checkerframework#checker-qual;3.31.0 from central in [default]\n",
      "\torg.hdrhistogram#HdrHistogram;2.1.12 from local-m2-cache in [default]\n",
      "\torg.postgresql#postgresql;42.6.0 from central in [default]\n",
      "\torg.reactivestreams#reactive-streams;1.0.3 from central in [default]\n",
      "\torg.scala-lang#scala-reflect;2.12.11 from spark-list in [default]\n",
      "\torg.scala-lang.modules#scala-collection-compat_2.12;2.11.0 from central in [default]\n",
      "\torg.slf4j#slf4j-api;1.7.26 from local-m2-cache in [default]\n",
      "\t---------------------------------------------------------------------\n",
      "\t|                  |            modules            ||   artifacts   |\n",
      "\t|       conf       | number| search|dwnlded|evicted|| number|dwnlded|\n",
      "\t---------------------------------------------------------------------\n",
      "\t|      default     |   21  |   3   |   3   |   0   ||   21  |   0   |\n",
      "\t---------------------------------------------------------------------\n",
      "\n",
      ":: problems summary ::\n",
      ":::: ERRORS\n",
      "\tunknown resolver null\n",
      "\n",
      "\tunknown resolver null\n",
      "\n",
      "\tunknown resolver null\n",
      "\n",
      "\n",
      ":: USE VERBOSE OR DEBUG MESSAGE LEVEL FOR MORE DETAILS\n",
      ":: retrieving :: org.apache.spark#spark-submit-parent-2325ac30-dee7-44f2-9333-af942ad6ab0d\n",
      "\tconfs: [default]\n",
      "\t0 artifacts copied, 21 already retrieved (0kB/7ms)\n",
      "23/12/11 23:29:17 WARN NativeCodeLoader: Unable to load native-hadoop library for your platform... using builtin-java classes where applicable\n",
      "Setting default log level to \"WARN\".\n",
      "To adjust logging level use sc.setLogLevel(newLevel). For SparkR, use setLogLevel(newLevel).\n",
      "23/12/11 23:29:18 WARN Utils: Service 'SparkUI' could not bind on port 4040. Attempting port 4041.\n"
     ]
    }
   ],
   "source": [
    "spark = (SparkSession.builder.master(\"local[2]\").appName(\"demo\")\n",
    "         .config(map={\n",
    "    \"spark.driver.memory\": \"2G\",\n",
    "    \"spark.jars.packages\": \"com.datastax.spark:spark-cassandra-connector_2.12:3.4.1,org.postgresql:postgresql:42.6.0\",\n",
    "    \"spark.sql.extensions\": \"com.datastax.spark.connector.CassandraSparkExtensions\",\n",
    "    \"spark.sql.catalog.comwatt\": \"com.datastax.spark.connector.datasource.CassandraCatalog\",\n",
    "    \"spark.sql.catalog.comwatt.spark.cassandra.connection.compression\": \"LZ4\",\n",
    "    \"spark.sql.catalog.comwatt.spark.cassandra.connection.host\": \"localhost:9042\",\n",
    "}).getOrCreate())"
   ],
   "metadata": {
    "collapsed": false,
    "ExecuteTime": {
     "end_time": "2023-12-11T22:29:19.258539226Z",
     "start_time": "2023-12-11T22:29:14.036486614Z"
    }
   },
   "id": "c50d4ff4de266472"
  },
  {
   "cell_type": "code",
   "execution_count": 3,
   "outputs": [
    {
     "name": "stdout",
     "output_type": "stream",
     "text": [
      "+----------+------------------------------------+-------+---------+-------------------------+\n",
      "|device_uid|connected_object_uid                |site_id|type     |label                    |\n",
      "+----------+------------------------------------+-------+---------+-------------------------+\n",
      "|0         |05ed9851-5343-47d9-9417-99422184eb29|0      |chauffage|Mon chauffage maison     |\n",
      "|1         |0fd49130-1973-418f-b101-3682942654e0|1      |chauffage|Le chauffage c'est la vie|\n",
      "|2         |14766b2f-4d6f-4849-afdf-d74639ac67a4|2      |four     |pour faire du pain       |\n",
      "+----------+------------------------------------+-------+---------+-------------------------+\n"
     ]
    }
   ],
   "source": [
    "from demo.adapters.postgres_reader import PostgresClient, PostgresReader\n",
    "\n",
    "pg_client = PostgresClient(spark, \"jdbc:postgresql://localhost:5432/comwatt\", \"postgres\", \"demo_password\")\n",
    "PostgresReader(pg_client, \"devices\")().show(truncate=False)"
   ],
   "metadata": {
    "collapsed": false,
    "ExecuteTime": {
     "end_time": "2023-12-11T22:29:21.703310182Z",
     "start_time": "2023-12-11T22:29:19.260810229Z"
    }
   },
   "id": "19dc81e78a0b9893"
  },
  {
   "cell_type": "code",
   "execution_count": 4,
   "outputs": [
    {
     "name": "stdout",
     "output_type": "stream",
     "text": [
      "+-------+-----------+------------------------------------+-------------------+----------+\n",
      "|site_id|time_bucket|connected_object_uid                |timestamp          |value     |\n",
      "+-------+-----------+------------------------------------+-------------------+----------+\n",
      "|1      |202309     |0fd49130-1973-418f-b101-3682942654e0|2023-09-12 01:00:00|106.82685 |\n",
      "|1      |202309     |0fd49130-1973-418f-b101-3682942654e0|2023-09-12 00:00:00|95.88386  |\n",
      "|1      |202309     |0fd49130-1973-418f-b101-3682942654e0|2023-09-11 23:00:00|123.56678 |\n",
      "|1      |202309     |0fd49130-1973-418f-b101-3682942654e0|2023-09-11 22:00:00|108.77442 |\n",
      "|1      |202309     |0fd49130-1973-418f-b101-3682942654e0|2023-09-11 21:00:00|91.61672  |\n",
      "|1      |202309     |0fd49130-1973-418f-b101-3682942654e0|2023-09-11 20:00:00|110.88063 |\n",
      "|1      |202309     |0fd49130-1973-418f-b101-3682942654e0|2023-09-11 19:00:00|95.758224 |\n",
      "|1      |202309     |0fd49130-1973-418f-b101-3682942654e0|2023-09-11 18:00:00|95.24462  |\n",
      "|1      |202309     |0fd49130-1973-418f-b101-3682942654e0|2023-09-11 17:00:00|93.41953  |\n",
      "|1      |202309     |0fd49130-1973-418f-b101-3682942654e0|2023-09-11 16:00:00|91.413086 |\n",
      "|1      |202309     |0fd49130-1973-418f-b101-3682942654e0|2023-09-11 15:00:00|104.063866|\n",
      "|1      |202309     |0fd49130-1973-418f-b101-3682942654e0|2023-09-11 14:00:00|112.3498  |\n",
      "|1      |202309     |0fd49130-1973-418f-b101-3682942654e0|2023-09-11 13:00:00|105.29154 |\n",
      "|1      |202309     |0fd49130-1973-418f-b101-3682942654e0|2023-09-11 12:00:00|107.55344 |\n",
      "|1      |202309     |0fd49130-1973-418f-b101-3682942654e0|2023-09-11 11:00:00|98.71574  |\n",
      "|1      |202309     |0fd49130-1973-418f-b101-3682942654e0|2023-09-11 10:00:00|112.26305 |\n",
      "|1      |202309     |0fd49130-1973-418f-b101-3682942654e0|2023-09-11 09:00:00|114.575   |\n",
      "|1      |202309     |0fd49130-1973-418f-b101-3682942654e0|2023-09-11 08:00:00|79.355194 |\n",
      "|1      |202309     |0fd49130-1973-418f-b101-3682942654e0|2023-09-11 07:00:00|76.70614  |\n",
      "|1      |202309     |0fd49130-1973-418f-b101-3682942654e0|2023-09-11 06:00:00|100.79725 |\n",
      "+-------+-----------+------------------------------------+-------------------+----------+\n"
     ]
    }
   ],
   "source": [
    "from demo.adapters.cassandra_reader import  CassandraClient,CassandraReader\n",
    "\n",
    "cass_client = CassandraClient(spark, \"comwatt.comwatt\")\n",
    "CassandraReader(cass_client, \"measures\")().show(truncate=False)"
   ],
   "metadata": {
    "collapsed": false,
    "ExecuteTime": {
     "end_time": "2023-12-11T22:29:23.063805311Z",
     "start_time": "2023-12-11T22:29:21.703753548Z"
    }
   },
   "id": "45e3c463ea405673"
  }
 ],
 "metadata": {
  "kernelspec": {
   "display_name": "Python 3",
   "language": "python",
   "name": "python3"
  },
  "language_info": {
   "codemirror_mode": {
    "name": "ipython",
    "version": 2
   },
   "file_extension": ".py",
   "mimetype": "text/x-python",
   "name": "python",
   "nbconvert_exporter": "python",
   "pygments_lexer": "ipython2",
   "version": "2.7.6"
  }
 },
 "nbformat": 4,
 "nbformat_minor": 5
}
